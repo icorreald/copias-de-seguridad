{
 "cells": [
  {
   "cell_type": "code",
   "execution_count": null,
   "metadata": {},
   "outputs": [],
   "source": [
    "import random\n"
   ]
  },
  {
   "cell_type": "code",
   "execution_count": null,
   "metadata": {},
   "outputs": [],
   "source": [
    "reglas = {\"piedra\" : \"papel\" , \"papel\" : \"tijeras\" , \"tijeras\" : \"piedra\"}\n",
    "lista = ['piedra', 'papel', 'tijeras']\n",
    "\n",
    "jugadora = input('Elige opción').lower()\n",
    "maquina = random.choice(lista)\n",
    "print(jugadora, maquina)\n",
    "\n",
    "puntos_jugadora = 0\n",
    "puntos_maquina = 0\n",
    "\n",
    "reglas.get(jugadora) == maquina"
   ]
  },
  {
   "cell_type": "code",
   "execution_count": null,
   "metadata": {},
   "outputs": [],
   "source": [
    "# condición del juego\n",
    "while puntos_jugadora < 3 and puntos_maquina < 3:\n",
    "\n",
    "    # elección de cada jugador\n",
    "    jugadora = input('Elige opción').lower().strip()\n",
    "    maquina = random.choice(lista)\n",
    "\n",
    "    # salvaguarda por si el jugador elige opción no válida\n",
    "\n",
    "    if jugadora not in reglas:\n",
    "        print('ERROR: elección no válida')\n",
    "\n",
    "    # transcurso del juego\n",
    "    else:\n",
    "        if jugadora == maquina:\n",
    "            print(f\"Has escogido {jugadora} y la máquina {maquina}. Empate. Vais {puntos_jugadora} a {puntos_maquina}\")\n",
    "        # ----- empates\n",
    "            \n",
    "        else:\n",
    "            if reglas.get(jugadora) == maquina:\n",
    "                puntos_maquina += 1 \n",
    "                print(f'Has escogido {jugadora} y la máquina {maquina}. Ohhhh, perdiste. Vais {puntos_jugadora} a {puntos_maquina}')\n",
    "            # ----- gana máquina\n",
    "            else:\n",
    "                puntos_jugadora += 1  \n",
    "                print(f'Has escogido {jugadora} y la máquina {maquina}. Enhorabuena crack. Vais {puntos_jugadora} a {puntos_maquina}')\n",
    "            # ----- gana jugador\n",
    "                \n",
    "    print('--------------------------------------------------')\n",
    "\n",
    "# resolución del juego\n",
    "if puntos_jugadora > puntos_maquina:\n",
    "    print(f'Enhorabuena, jugadora, has ganado con {puntos_jugadora} puntos!')\n",
    "    # ----- victoria jugador\n",
    "\n",
    "else:\n",
    "    print(f'Lo lamento, la máquina ha ganado con {puntos_maquina} puntos :(') \n",
    "    # ----- victoria máquina"
   ]
  }
 ],
 "metadata": {
  "language_info": {
   "name": "python"
  }
 },
 "nbformat": 4,
 "nbformat_minor": 2
}
